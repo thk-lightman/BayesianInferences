{
 "metadata": {
  "language_info": {
   "codemirror_mode": {
    "name": "ipython",
    "version": 3
   },
   "file_extension": ".py",
   "mimetype": "text/x-python",
   "name": "python",
   "nbconvert_exporter": "python",
   "pygments_lexer": "ipython3",
   "version": "3.8.5-final"
  },
  "orig_nbformat": 2,
  "kernelspec": {
   "name": "formulae",
   "display_name": "formulae",
   "language": "python"
  }
 },
 "nbformat": 4,
 "nbformat_minor": 2,
 "cells": [
  {
   "source": [
    "# Examples\n",
    "\n",
    "The core function of this package is `design_matrices()`. It returns an object of class `DesignMatrices` that contains information about the response, common effects and group specific effects."
   ],
   "cell_type": "markdown",
   "metadata": {}
  },
  {
   "cell_type": "code",
   "execution_count": 1,
   "metadata": {},
   "outputs": [],
   "source": [
    "import pandas as pd\n",
    "import numpy as np\n",
    "\n",
    "from formulae import design_matrices"
   ]
  },
  {
   "cell_type": "code",
   "execution_count": 2,
   "metadata": {},
   "outputs": [],
   "source": [
    "np.random.seed(1234)"
   ]
  },
  {
   "cell_type": "code",
   "execution_count": 3,
   "metadata": {},
   "outputs": [],
   "source": [
    "SIZE = 20\n",
    "CNT = 20\n",
    "data = pd.DataFrame(\n",
    "    {\n",
    "        'x': np.random.normal(size=SIZE), \n",
    "        'y': np.random.normal(size=SIZE),\n",
    "        'z': np.random.normal(size=SIZE),\n",
    "        '$2#abc': np.random.normal(size=SIZE),\n",
    "        'g1': np.random.choice(['a', 'b', 'c'], SIZE),\n",
    "        'g2': np.random.choice(['YES', 'NO'], SIZE)\n",
    "    }\n",
    ")"
   ]
  },
  {
   "source": [
    "We can use both functions taht are loaded in the top environment as well as non-syntactic names passed within \\`\\`. Specification of group specific effects is much like what you have in R package `lme4`."
   ],
   "cell_type": "markdown",
   "metadata": {}
  },
  {
   "cell_type": "code",
   "execution_count": 4,
   "metadata": {},
   "outputs": [],
   "source": [
    "design = design_matrices(\"y ~ np.exp(x) + `$2#abc` + (z|g1)\", data)"
   ]
  },
  {
   "cell_type": "code",
   "execution_count": 5,
   "metadata": {},
   "outputs": [
    {
     "output_type": "stream",
     "name": "stdout",
     "text": [
      "ResponseVector(name=y, type=numeric, length=20)\n[[-0.20264632]\n [-0.65596934]\n [ 0.19342138]\n [ 0.55343891]\n [ 1.31815155]\n [-0.46930528]\n [ 0.67555409]\n [-1.81702723]\n [-0.18310854]\n [ 1.05896919]\n [-0.39784023]\n [ 0.33743765]\n [ 1.04757857]\n [ 1.04593826]\n [ 0.86371729]\n [-0.12209157]\n [ 0.12471295]\n [-0.32279481]\n [ 0.84167471]\n [ 2.39096052]]\n"
     ]
    }
   ],
   "source": [
    "print(design.response)\n",
    "print(design.response.design_vector)"
   ]
  },
  {
   "cell_type": "code",
   "execution_count": 6,
   "metadata": {},
   "outputs": [
    {
     "output_type": "stream",
     "name": "stdout",
     "text": [
      "CommonEffectsMatrix(\n  shape: (20, 3),\n  terms: {\n    'Intercept': {type=Intercept, cols=slice(0, 1, None)},\n    'np.exp(x)': {type=call, cols=slice(1, 2, None)},\n    '$2#abc': {type=numeric, cols=slice(2, 3, None)}\n  }\n)\n[[ 1.          1.6022921  -0.97423633]\n [ 1.          0.30392458 -0.07034488]\n [ 1.          4.19002612  0.30796886]\n [ 1.          0.73150451 -0.20849876]\n [ 1.          0.48646577  1.03380073]\n [ 1.          2.42823083 -2.40045363]\n [ 1.          2.36218825  2.03060362]\n [ 1.          0.52912874 -1.14263129]\n [ 1.          1.01582021  0.21188339]\n [ 1.          0.10617305  0.70472062]\n [ 1.          3.15830574 -0.78543521]\n [ 1.          2.69647677  0.46205974]\n [ 1.          2.59431919  0.70422823]\n [ 1.          0.13248911  0.52350797]\n [ 1.          0.71599839 -0.92625431]\n [ 1.          1.00212061  2.00784295]\n [ 1.          1.49998246  0.22696254]\n [ 1.          1.33521448 -1.15265911]\n [ 1.          3.74775949  0.63197945]\n [ 1.          0.21290578  0.03951269]]\n"
     ]
    }
   ],
   "source": [
    "print(design.common)\n",
    "print(design.common.design_matrix)"
   ]
  },
  {
   "cell_type": "code",
   "execution_count": 7,
   "metadata": {},
   "outputs": [
    {
     "output_type": "stream",
     "name": "stdout",
     "text": [
      "[[-0.97423633]\n [-0.07034488]\n [ 0.30796886]\n [-0.20849876]\n [ 1.03380073]\n [-2.40045363]\n [ 2.03060362]\n [-1.14263129]\n [ 0.21188339]\n [ 0.70472062]\n [-0.78543521]\n [ 0.46205974]\n [ 0.70422823]\n [ 0.52350797]\n [-0.92625431]\n [ 2.00784295]\n [ 0.22696254]\n [-1.15265911]\n [ 0.63197945]\n [ 0.03951269]]\n"
     ]
    }
   ],
   "source": [
    "print(design.common['$2#abc'])"
   ]
  },
  {
   "cell_type": "code",
   "execution_count": 8,
   "metadata": {},
   "outputs": [
    {
     "output_type": "stream",
     "name": "stdout",
     "text": [
      "GroupEffectsMatrix(\n  shape: (40, 6),\n  terms: {\n    '1|g1': {type=Intercept, idxs=(slice(0, 20, None), slice(0, 3, None))},\n    'z|g1': {type=numeric, idxs=(slice(20, 40, None), slice(3, 6, None))}\n  }\n)\n  (0, 0)\t1.0\n  (1, 0)\t1.0\n  (7, 0)\t1.0\n  (9, 0)\t1.0\n  (13, 0)\t1.0\n  (14, 0)\t1.0\n  (16, 0)\t1.0\n  (17, 0)\t1.0\n  (18, 0)\t1.0\n  (2, 1)\t1.0\n  (3, 1)\t1.0\n  (6, 1)\t1.0\n  (10, 1)\t1.0\n  (11, 1)\t1.0\n  (12, 1)\t1.0\n  (15, 1)\t1.0\n  (19, 1)\t1.0\n  (4, 2)\t1.0\n  (5, 2)\t1.0\n  (8, 2)\t1.0\n  (20, 3)\t0.07619958783723642\n  (21, 3)\t-0.5664459304649568\n  (27, 3)\t0.018289191349219306\n  (29, 3)\t0.2152685809694434\n  (33, 3)\t-0.10091819994891389\n  (34, 3)\t-0.5482424491868549\n  (36, 3)\t0.3540203321992379\n  (37, 3)\t-0.0355130252781402\n  (38, 3)\t0.5657383060625951\n  (22, 4)\t0.036141936684072715\n  (23, 4)\t-2.0749776006900293\n  (26, 4)\t-0.1367948332613474\n  (30, 4)\t0.841008794931391\n  (31, 4)\t-1.4458100770443063\n  (32, 4)\t-1.4019732815008439\n  (35, 4)\t-0.14461950836938436\n  (39, 4)\t1.5456588046255575\n  (24, 5)\t0.24779219974854666\n  (25, 5)\t-0.8971567844396987\n  (28, 5)\t0.7554139823981354\n"
     ]
    }
   ],
   "source": [
    "print(design.group)\n",
    "print(design.group.design_matrix) # note it is a sparse matrix"
   ]
  },
  {
   "source": [
    "$Z$ matrix can be subsetted by passing the name of the group specific term."
   ],
   "cell_type": "markdown",
   "metadata": {}
  },
  {
   "cell_type": "code",
   "execution_count": 9,
   "metadata": {},
   "outputs": [
    {
     "output_type": "stream",
     "name": "stdout",
     "text": [
      "[[ 0.07619959  0.          0.        ]\n [-0.56644593  0.          0.        ]\n [ 0.          0.03614194  0.        ]\n [ 0.         -2.0749776   0.        ]\n [ 0.          0.          0.2477922 ]\n [ 0.          0.         -0.89715678]\n [ 0.         -0.13679483  0.        ]\n [ 0.01828919  0.          0.        ]\n [ 0.          0.          0.75541398]\n [ 0.21526858  0.          0.        ]\n [ 0.          0.84100879  0.        ]\n [ 0.         -1.44581008  0.        ]\n [ 0.         -1.40197328  0.        ]\n [-0.1009182   0.          0.        ]\n [-0.54824245  0.          0.        ]\n [ 0.         -0.14461951  0.        ]\n [ 0.35402033  0.          0.        ]\n [-0.03551303  0.          0.        ]\n [ 0.56573831  0.          0.        ]\n [ 0.          1.5456588   0.        ]]\n"
     ]
    }
   ],
   "source": [
    "print(design.group['z|g1'])"
   ]
  },
  {
   "source": [
    "## Reference class example\n",
    "\n",
    "This feature is taken from current Bambi behavior (you don't find it in Patsy or formulaic)"
   ],
   "cell_type": "markdown",
   "metadata": {}
  },
  {
   "cell_type": "code",
   "execution_count": 10,
   "metadata": {},
   "outputs": [
    {
     "output_type": "stream",
     "name": "stdout",
     "text": [
      "ResponseVector(name=g2, type=categoric, length=20, refclass=YES)\n[[0]\n [1]\n [1]\n [0]\n [0]\n [0]\n [1]\n [0]\n [0]\n [0]\n [0]\n [0]\n [0]\n [1]\n [1]\n [0]\n [1]\n [0]\n [0]\n [1]]\n"
     ]
    }
   ],
   "source": [
    "design = design_matrices('g2[YES] ~ x', data)\n",
    "print(design.response)\n",
    "print(design.response.design_vector)"
   ]
  }
 ]
}