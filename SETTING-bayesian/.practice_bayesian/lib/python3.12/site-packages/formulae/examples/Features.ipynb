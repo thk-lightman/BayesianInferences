{
 "cells": [
  {
   "source": [
    "# Model description features"
   ],
   "cell_type": "markdown",
   "metadata": {}
  },
  {
   "cell_type": "code",
   "execution_count": 1,
   "metadata": {},
   "outputs": [],
   "source": [
    "import formulae as fm\n",
    "import numpy as np\n",
    "import pandas as pd"
   ]
  },
  {
   "source": [
    "## Operator precedence\n",
    "\n",
    "All binary operators are left-associative, but some of them bind tighther than others. This is a list of binary operators sorted from lowest to highest precedence.\n",
    "\n",
    "* `~` which separates the response term from the explanatory variables. There can be at most one of this per formula.\n",
    "* `|` random effect operator. As seen in `lme4` R package. Don't necessary require parentheses but will be almost always used with them.\n",
    "* `+` and `-` add and remove terms. `+` can be thought as a set union operator, while `-` removes a term from a set if the term is present and leaves the term as it is if not.\n",
    "* `*` and `/`. `a*b` is a shorthand for `a + b + a:b` and `/` is a shorthand for `a + a:b`. However there are particular cases for the latter when working with grouped terms (i.e. more than one term within parentheses).\n",
    "* `:` indicates interaction between operands.\n",
    "* `**` as in Patsy, it takes a set of terms on the left and a positive integer `n` on the right. Then it computes all interactions between the terms in the set up to order `n`.\n"
   ],
   "cell_type": "markdown",
   "metadata": {}
  },
  {
   "source": [
    "## Implicit intercept\n",
    "\n",
    "As in R, Patsy and all/most implementations, this implementation assumes there is an implicit intercept. This can be removed with `0` or `-1`."
   ],
   "cell_type": "markdown",
   "metadata": {}
  },
  {
   "cell_type": "code",
   "execution_count": 2,
   "metadata": {},
   "outputs": [
    {
     "output_type": "execute_result",
     "data": {
      "text/plain": [
       "ModelTerms(\n",
       "  ResponseTerm(\n",
       "    Term(\n",
       "      name= y\n",
       "      variable= y\n",
       "      kind= None\n",
       "    )\n",
       "  ),\n",
       "  InterceptTerm(),\n",
       "  Term(\n",
       "    name= x\n",
       "    variable= x\n",
       "    kind= None\n",
       "  )\n",
       ")"
      ]
     },
     "metadata": {},
     "execution_count": 2
    }
   ],
   "source": [
    "fm.model_description('y ~ x')"
   ]
  },
  {
   "cell_type": "code",
   "execution_count": 3,
   "metadata": {},
   "outputs": [
    {
     "output_type": "execute_result",
     "data": {
      "text/plain": [
       "ModelTerms(\n",
       "  ResponseTerm(\n",
       "    Term(\n",
       "      name= y\n",
       "      variable= y\n",
       "      kind= None\n",
       "    )\n",
       "  ),\n",
       "  Term(\n",
       "    name= x\n",
       "    variable= x\n",
       "    kind= None\n",
       "  )\n",
       ")"
      ]
     },
     "metadata": {},
     "execution_count": 3
    }
   ],
   "source": [
    "fm.model_description('y ~ 0 + x') # same with -1"
   ]
  },
  {
   "source": [
    "## Group specific terms (a.k.a random terms)\n",
    "\n",
    "One of the main differences between Patsy and this implementation is that you can pass group specific terms to the model formula using the same syntax than in `lme4` R package. As in there, parentheses are optional and there is an implicit intercept too. Then, `(x | g)` is a shorthand for `(1|g)` + `(x|g)`"
   ],
   "cell_type": "markdown",
   "metadata": {}
  },
  {
   "cell_type": "code",
   "execution_count": 4,
   "metadata": {},
   "outputs": [
    {
     "output_type": "execute_result",
     "data": {
      "text/plain": [
       "GroupSpecTerm(\n",
       "  expr= InterceptTerm(),\n",
       "  factor= Term(\n",
       "    name= x\n",
       "    variable= x\n",
       "    kind= None\n",
       "  )\n",
       ")"
      ]
     },
     "metadata": {},
     "execution_count": 4
    }
   ],
   "source": [
    "fm.model_description('1|x')"
   ]
  },
  {
   "source": [
    "Note that if we don't use parenthesis here, formulae will understand that the LHS of the `|` operator is `a + 1`. That's why you will almost always see parenthesis with random terms."
   ],
   "cell_type": "markdown",
   "metadata": {}
  },
  {
   "cell_type": "code",
   "execution_count": 5,
   "metadata": {},
   "outputs": [
    {
     "output_type": "execute_result",
     "data": {
      "text/plain": [
       "ModelTerms(\n",
       "  InterceptTerm(),\n",
       "  Term(\n",
       "    name= a\n",
       "    variable= a\n",
       "    kind= None\n",
       "  ),\n",
       "  GroupSpecTerm(\n",
       "    expr= InterceptTerm(),\n",
       "    factor= Term(\n",
       "      name= x\n",
       "      variable= x\n",
       "      kind= None\n",
       "    )\n",
       "  )\n",
       ")"
      ]
     },
     "metadata": {},
     "execution_count": 5
    }
   ],
   "source": [
    "fm.model_description('a + (1|x)')"
   ]
  },
  {
   "source": [
    "The operator is associative."
   ],
   "cell_type": "markdown",
   "metadata": {}
  },
  {
   "cell_type": "code",
   "execution_count": 6,
   "metadata": {},
   "outputs": [
    {
     "output_type": "execute_result",
     "data": {
      "text/plain": [
       "ModelTerms(\n",
       "  InterceptTerm(),\n",
       "  GroupSpecTerm(\n",
       "    expr= InterceptTerm(),\n",
       "    factor= Term(\n",
       "      name= g1\n",
       "      variable= g1\n",
       "      kind= None\n",
       "    )\n",
       "  ),\n",
       "  GroupSpecTerm(\n",
       "    expr= InterceptTerm(),\n",
       "    factor= Term(\n",
       "      name= g2\n",
       "      variable= g2\n",
       "      kind= None\n",
       "    )\n",
       "  ),\n",
       "  GroupSpecTerm(\n",
       "    expr= Term(\n",
       "      name= x\n",
       "      variable= x\n",
       "      kind= None\n",
       "    ),\n",
       "    factor= Term(\n",
       "      name= g1\n",
       "      variable= g1\n",
       "      kind= None\n",
       "    )\n",
       "  ),\n",
       "  GroupSpecTerm(\n",
       "    expr= Term(\n",
       "      name= x\n",
       "      variable= x\n",
       "      kind= None\n",
       "    ),\n",
       "    factor= Term(\n",
       "      name= g2\n",
       "      variable= g2\n",
       "      kind= None\n",
       "    )\n",
       "  )\n",
       ")"
      ]
     },
     "metadata": {},
     "execution_count": 6
    }
   ],
   "source": [
    "fm.model_description('(x | g1 + g2)')"
   ]
  },
  {
   "source": [
    "## Add and remove terms"
   ],
   "cell_type": "markdown",
   "metadata": {}
  },
  {
   "source": [
    "Just a simple demonstration, not much fun going on here. Nothing happens with `c` because it is not in the model specification."
   ],
   "cell_type": "markdown",
   "metadata": {}
  },
  {
   "cell_type": "code",
   "execution_count": 7,
   "metadata": {},
   "outputs": [
    {
     "output_type": "execute_result",
     "data": {
      "text/plain": [
       "ModelTerms(\n",
       "  ResponseTerm(\n",
       "    Term(\n",
       "      name= y\n",
       "      variable= y\n",
       "      kind= None\n",
       "    )\n",
       "  ),\n",
       "  InterceptTerm(),\n",
       "  Term(\n",
       "    name= a\n",
       "    variable= a\n",
       "    kind= None\n",
       "  ),\n",
       "  Term(\n",
       "    name= b\n",
       "    variable= b\n",
       "    kind= None\n",
       "  )\n",
       ")"
      ]
     },
     "metadata": {},
     "execution_count": 7
    }
   ],
   "source": [
    "fm.model_description('y ~ a + b - c')"
   ]
  },
  {
   "source": [
    "And here we don't see it either."
   ],
   "cell_type": "markdown",
   "metadata": {}
  },
  {
   "cell_type": "code",
   "execution_count": 8,
   "metadata": {},
   "outputs": [
    {
     "output_type": "execute_result",
     "data": {
      "text/plain": [
       "ModelTerms(\n",
       "  ResponseTerm(\n",
       "    Term(\n",
       "      name= y\n",
       "      variable= y\n",
       "      kind= None\n",
       "    )\n",
       "  ),\n",
       "  InterceptTerm(),\n",
       "  Term(\n",
       "    name= a\n",
       "    variable= a\n",
       "    kind= None\n",
       "  ),\n",
       "  Term(\n",
       "    name= b\n",
       "    variable= b\n",
       "    kind= None\n",
       "  )\n",
       ")"
      ]
     },
     "metadata": {},
     "execution_count": 8
    }
   ],
   "source": [
    "fm.model_description('y ~ a + c + b - c')"
   ]
  },
  {
   "source": [
    "But since terms are left-associative, there's no `c` when we remove it and we end up adding it in the end."
   ],
   "cell_type": "markdown",
   "metadata": {}
  },
  {
   "cell_type": "code",
   "execution_count": 9,
   "metadata": {},
   "outputs": [
    {
     "output_type": "execute_result",
     "data": {
      "text/plain": [
       "ModelTerms(\n",
       "  ResponseTerm(\n",
       "    Term(\n",
       "      name= y\n",
       "      variable= y\n",
       "      kind= None\n",
       "    )\n",
       "  ),\n",
       "  InterceptTerm(),\n",
       "  Term(\n",
       "    name= a\n",
       "    variable= a\n",
       "    kind= None\n",
       "  ),\n",
       "  Term(\n",
       "    name= b\n",
       "    variable= b\n",
       "    kind= None\n",
       "  ),\n",
       "  Term(\n",
       "    name= c\n",
       "    variable= c\n",
       "    kind= None\n",
       "  )\n",
       ")"
      ]
     },
     "metadata": {},
     "execution_count": 9
    }
   ],
   "source": [
    "fm.model_description('y ~ a - c + b + c')"
   ]
  },
  {
   "source": [
    "Below we're going to see better usages for the `-` operator."
   ],
   "cell_type": "markdown",
   "metadata": {}
  },
  {
   "source": [
    "## Interactions\n",
    "Interactions of a term with itself return the term unchanged, i.e. `a:a` equals `a`.\n",
    "\n",
    "### `:` operator"
   ],
   "cell_type": "markdown",
   "metadata": {}
  },
  {
   "cell_type": "code",
   "execution_count": 10,
   "metadata": {},
   "outputs": [
    {
     "output_type": "execute_result",
     "data": {
      "text/plain": [
       "ModelTerms(\n",
       "  ResponseTerm(\n",
       "    Term(\n",
       "      name= y\n",
       "      variable= y\n",
       "      kind= None\n",
       "    )\n",
       "  ),\n",
       "  InterceptTerm(),\n",
       "  InteractionTerm(\n",
       "    name= a:b\n",
       "    variables= {'b', 'a'}\n",
       "  ),\n",
       "  InteractionTerm(\n",
       "    name= c:d\n",
       "    variables= {'d', 'c'}\n",
       "  )\n",
       ")"
      ]
     },
     "metadata": {},
     "execution_count": 10
    }
   ],
   "source": [
    "fm.model_description('y ~ a:b + c:d')"
   ]
  },
  {
   "source": [
    "### `*` operator\n"
   ],
   "cell_type": "markdown",
   "metadata": {}
  },
  {
   "cell_type": "code",
   "execution_count": 11,
   "metadata": {},
   "outputs": [
    {
     "output_type": "execute_result",
     "data": {
      "text/plain": [
       "ModelTerms(\n",
       "  ResponseTerm(\n",
       "    Term(\n",
       "      name= y\n",
       "      variable= y\n",
       "      kind= None\n",
       "    )\n",
       "  ),\n",
       "  Term(\n",
       "    name= a\n",
       "    variable= a\n",
       "    kind= None\n",
       "  ),\n",
       "  Term(\n",
       "    name= b\n",
       "    variable= b\n",
       "    kind= None\n",
       "  ),\n",
       "  InteractionTerm(\n",
       "    name= a:b\n",
       "    variables= {'b', 'a'}\n",
       "  ),\n",
       "  Term(\n",
       "    name= c\n",
       "    variable= c\n",
       "    kind= None\n",
       "  ),\n",
       "  Term(\n",
       "    name= d\n",
       "    variable= d\n",
       "    kind= None\n",
       "  ),\n",
       "  InteractionTerm(\n",
       "    name= c:d\n",
       "    variables= {'d', 'c'}\n",
       "  )\n",
       ")"
      ]
     },
     "metadata": {},
     "execution_count": 11
    }
   ],
   "source": [
    "fm.model_description('y ~ 0 + a*b + c*d')"
   ]
  },
  {
   "source": [
    "### `/` operator\n",
    "\n",
    "The behavior of this operator has a special case we'll see below when using grouped terms."
   ],
   "cell_type": "markdown",
   "metadata": {}
  },
  {
   "cell_type": "code",
   "execution_count": 12,
   "metadata": {},
   "outputs": [
    {
     "output_type": "execute_result",
     "data": {
      "text/plain": [
       "ModelTerms(\n",
       "  ResponseTerm(\n",
       "    Term(\n",
       "      name= y\n",
       "      variable= y\n",
       "      kind= None\n",
       "    )\n",
       "  ),\n",
       "  Term(\n",
       "    name= a\n",
       "    variable= a\n",
       "    kind= None\n",
       "  ),\n",
       "  InteractionTerm(\n",
       "    name= a:b\n",
       "    variables= {'b', 'a'}\n",
       "  ),\n",
       "  Term(\n",
       "    name= c\n",
       "    variable= c\n",
       "    kind= None\n",
       "  ),\n",
       "  InteractionTerm(\n",
       "    name= c:d\n",
       "    variables= {'d', 'c'}\n",
       "  )\n",
       ")"
      ]
     },
     "metadata": {},
     "execution_count": 12
    }
   ],
   "source": [
    "fm.model_description('y ~ 0 + a/b + c/d')"
   ]
  },
  {
   "source": [
    "## Power operator\n",
    "\n",
    "This operator can be used with a single term, which returns the term unchanged and with a set of terms, which computes interactions between terms in the set up to order `n`, which must always be positive integer."
   ],
   "cell_type": "markdown",
   "metadata": {}
  },
  {
   "cell_type": "code",
   "execution_count": 13,
   "metadata": {},
   "outputs": [
    {
     "output_type": "execute_result",
     "data": {
      "text/plain": [
       "ModelTerms(\n",
       "  InterceptTerm(),\n",
       "  Term(\n",
       "    name= a\n",
       "    variable= a\n",
       "    kind= None\n",
       "  )\n",
       ")"
      ]
     },
     "metadata": {},
     "execution_count": 13
    }
   ],
   "source": [
    "fm.model_description('a**3')"
   ]
  },
  {
   "cell_type": "code",
   "execution_count": 14,
   "metadata": {},
   "outputs": [
    {
     "output_type": "execute_result",
     "data": {
      "text/plain": [
       "ModelTerms(\n",
       "  InterceptTerm(),\n",
       "  Term(\n",
       "    name= a\n",
       "    variable= a\n",
       "    kind= None\n",
       "  ),\n",
       "  Term(\n",
       "    name= b\n",
       "    variable= b\n",
       "    kind= None\n",
       "  ),\n",
       "  Term(\n",
       "    name= c\n",
       "    variable= c\n",
       "    kind= None\n",
       "  ),\n",
       "  InteractionTerm(\n",
       "    name= a:b\n",
       "    variables= {'b', 'a'}\n",
       "  ),\n",
       "  InteractionTerm(\n",
       "    name= a:c\n",
       "    variables= {'c', 'a'}\n",
       "  ),\n",
       "  InteractionTerm(\n",
       "    name= b:c\n",
       "    variables= {'c', 'b'}\n",
       "  ),\n",
       "  InteractionTerm(\n",
       "    name= a:b:c\n",
       "    variables= {'b', 'c', 'a'}\n",
       "  )\n",
       ")"
      ]
     },
     "metadata": {},
     "execution_count": 14
    }
   ],
   "source": [
    "fm.model_description('(a + b + c)**3')"
   ]
  },
  {
   "source": [
    "## Function calls\n",
    "\n",
    "`formulae` detects when you want to transform one of the terms using a function. Currently, it just returns an object of class `CallTerm` which has the name of the function to be called and the arguments passed and it does not check whether the arguments are proper Python code. This is going to happen when we send the code to the Python interpreter. The `special` attribute is not used yet."
   ],
   "cell_type": "markdown",
   "metadata": {}
  },
  {
   "cell_type": "code",
   "execution_count": 15,
   "metadata": {},
   "outputs": [
    {
     "output_type": "execute_result",
     "data": {
      "text/plain": [
       "ModelTerms(\n",
       "  ResponseTerm(\n",
       "    Term(\n",
       "      name= y\n",
       "      variable= y\n",
       "      kind= None\n",
       "    )\n",
       "  ),\n",
       "  InterceptTerm(),\n",
       "  CallTerm(\n",
       "    call=center(x),\n",
       "    args=[Variable(name=x)],\n",
       "    special=False\n",
       "  ),\n",
       "  Term(\n",
       "    name= d\n",
       "    variable= d\n",
       "    kind= None\n",
       "  )\n",
       ")"
      ]
     },
     "metadata": {},
     "execution_count": 15
    }
   ],
   "source": [
    "fm.model_description('y ~ center(x) + d')"
   ]
  },
  {
   "source": [
    "You can also have calls on the left side of the formula. Of course, function names will have to be bound to a value for calls to work. \n",
    "Note: the response term is not printed as a CallTerm but it is a call term."
   ],
   "cell_type": "markdown",
   "metadata": {}
  },
  {
   "cell_type": "code",
   "execution_count": 16,
   "metadata": {},
   "outputs": [
    {
     "output_type": "execute_result",
     "data": {
      "text/plain": [
       "ModelTerms(\n",
       "  ResponseTerm(\n",
       "    CallTerm(\n",
       "      call=np.log(y),\n",
       "      args=[Variable(name=y)],\n",
       "      special=False\n",
       "    )\n",
       "  ),\n",
       "  InterceptTerm(),\n",
       "  CallTerm(\n",
       "    call=center(x),\n",
       "    args=[Variable(name=x)],\n",
       "    special=False\n",
       "  ),\n",
       "  Term(\n",
       "    name= d\n",
       "    variable= d\n",
       "    kind= None\n",
       "  )\n",
       ")"
      ]
     },
     "metadata": {},
     "execution_count": 16
    }
   ],
   "source": [
    "fm.model_description('np.log(y) ~ center(x) + d')"
   ]
  },
  {
   "source": [
    "## Some examples to see associativity rules"
   ],
   "cell_type": "markdown",
   "metadata": {}
  },
  {
   "cell_type": "code",
   "execution_count": 17,
   "metadata": {},
   "outputs": [
    {
     "output_type": "execute_result",
     "data": {
      "text/plain": [
       "ModelTerms(\n",
       "  ResponseTerm(\n",
       "    Term(\n",
       "      name= y\n",
       "      variable= y\n",
       "      kind= None\n",
       "    )\n",
       "  ),\n",
       "  InterceptTerm(),\n",
       "  Term(\n",
       "    name= a\n",
       "    variable= a\n",
       "    kind= None\n",
       "  ),\n",
       "  Term(\n",
       "    name= b\n",
       "    variable= b\n",
       "    kind= None\n",
       "  ),\n",
       "  Term(\n",
       "    name= c\n",
       "    variable= c\n",
       "    kind= None\n",
       "  ),\n",
       "  InteractionTerm(\n",
       "    name= a:b\n",
       "    variables= {'b', 'a'}\n",
       "  ),\n",
       "  InteractionTerm(\n",
       "    name= a:c\n",
       "    variables= {'c', 'a'}\n",
       "  )\n",
       ")"
      ]
     },
     "metadata": {},
     "execution_count": 17
    }
   ],
   "source": [
    "fm.model_description('y ~ a * (b + c)')"
   ]
  },
  {
   "cell_type": "code",
   "execution_count": 18,
   "metadata": {},
   "outputs": [
    {
     "output_type": "execute_result",
     "data": {
      "text/plain": [
       "ModelTerms(\n",
       "  ResponseTerm(\n",
       "    Term(\n",
       "      name= y\n",
       "      variable= y\n",
       "      kind= None\n",
       "    )\n",
       "  ),\n",
       "  InterceptTerm(),\n",
       "  Term(\n",
       "    name= a\n",
       "    variable= a\n",
       "    kind= None\n",
       "  ),\n",
       "  Term(\n",
       "    name= b\n",
       "    variable= b\n",
       "    kind= None\n",
       "  ),\n",
       "  Term(\n",
       "    name= c\n",
       "    variable= c\n",
       "    kind= None\n",
       "  ),\n",
       "  Term(\n",
       "    name= d\n",
       "    variable= d\n",
       "    kind= None\n",
       "  ),\n",
       "  InteractionTerm(\n",
       "    name= a:c\n",
       "    variables= {'c', 'a'}\n",
       "  ),\n",
       "  InteractionTerm(\n",
       "    name= a:d\n",
       "    variables= {'d', 'a'}\n",
       "  ),\n",
       "  InteractionTerm(\n",
       "    name= b:c\n",
       "    variables= {'c', 'b'}\n",
       "  ),\n",
       "  InteractionTerm(\n",
       "    name= b:d\n",
       "    variables= {'d', 'b'}\n",
       "  )\n",
       ")"
      ]
     },
     "metadata": {},
     "execution_count": 18
    }
   ],
   "source": [
    "fm.model_description('y ~ (a+b)*(c+d)')"
   ]
  },
  {
   "source": [
    "See the following about the `/` operator  \n",
    "\n",
    "`a / (b + c)` is equivalent to `a + a:b + a:c`"
   ],
   "cell_type": "markdown",
   "metadata": {}
  },
  {
   "cell_type": "code",
   "execution_count": 19,
   "metadata": {},
   "outputs": [
    {
     "output_type": "execute_result",
     "data": {
      "text/plain": [
       "ModelTerms(\n",
       "  ResponseTerm(\n",
       "    Term(\n",
       "      name= y\n",
       "      variable= y\n",
       "      kind= None\n",
       "    )\n",
       "  ),\n",
       "  InterceptTerm(),\n",
       "  Term(\n",
       "    name= a\n",
       "    variable= a\n",
       "    kind= None\n",
       "  ),\n",
       "  InteractionTerm(\n",
       "    name= a:b\n",
       "    variables= {'b', 'a'}\n",
       "  ),\n",
       "  InteractionTerm(\n",
       "    name= a:c\n",
       "    variables= {'c', 'a'}\n",
       "  )\n",
       ")"
      ]
     },
     "metadata": {},
     "execution_count": 19
    }
   ],
   "source": [
    "fm.model_description('y ~ a / (b+c)')"
   ]
  },
  {
   "source": [
    "but `(a + b) / c` is not equivalent to `a + a:c + b + b:c`, i.e. `/` is not leftward distributive over `+`. In [this](https://patsy.readthedocs.io/en/latest/formulas.html) Patsy doc you have an explanation of it (nested terms and S/R conventions)."
   ],
   "cell_type": "markdown",
   "metadata": {}
  },
  {
   "cell_type": "code",
   "execution_count": 20,
   "metadata": {},
   "outputs": [
    {
     "output_type": "execute_result",
     "data": {
      "text/plain": [
       "ModelTerms(\n",
       "  ResponseTerm(\n",
       "    Term(\n",
       "      name= y\n",
       "      variable= y\n",
       "      kind= None\n",
       "    )\n",
       "  ),\n",
       "  InterceptTerm(),\n",
       "  Term(\n",
       "    name= a\n",
       "    variable= a\n",
       "    kind= None\n",
       "  ),\n",
       "  Term(\n",
       "    name= b\n",
       "    variable= b\n",
       "    kind= None\n",
       "  ),\n",
       "  InteractionTerm(\n",
       "    name= a:b:c\n",
       "    variables= {'b', 'c', 'a'}\n",
       "  )\n",
       ")"
      ]
     },
     "metadata": {},
     "execution_count": 20
    }
   ],
   "source": [
    "fm.model_description('y ~ (a + b) / c')"
   ]
  },
  {
   "cell_type": "code",
   "execution_count": 21,
   "metadata": {},
   "outputs": [
    {
     "output_type": "execute_result",
     "data": {
      "text/plain": [
       "ModelTerms(\n",
       "  InterceptTerm(),\n",
       "  Term(\n",
       "    name= x\n",
       "    variable= x\n",
       "    kind= None\n",
       "  ),\n",
       "  Term(\n",
       "    name= y\n",
       "    variable= y\n",
       "    kind= None\n",
       "  ),\n",
       "  Term(\n",
       "    name= u\n",
       "    variable= u\n",
       "    kind= None\n",
       "  ),\n",
       "  InteractionTerm(\n",
       "    name= x:u\n",
       "    variables= {'x', 'u'}\n",
       "  ),\n",
       "  InteractionTerm(\n",
       "    name= y:u\n",
       "    variables= {'y', 'u'}\n",
       "  ),\n",
       "  Term(\n",
       "    name= v\n",
       "    variable= v\n",
       "    kind= None\n",
       "  ),\n",
       "  InteractionTerm(\n",
       "    name= x:v\n",
       "    variables= {'x', 'v'}\n",
       "  ),\n",
       "  InteractionTerm(\n",
       "    name= y:v\n",
       "    variables= {'y', 'v'}\n",
       "  ),\n",
       "  InteractionTerm(\n",
       "    name= u:v\n",
       "    variables= {'v', 'u'}\n",
       "  ),\n",
       "  InteractionTerm(\n",
       "    name= x:u:v\n",
       "    variables= {'x', 'v', 'u'}\n",
       "  ),\n",
       "  InteractionTerm(\n",
       "    name= y:u:v\n",
       "    variables= {'y', 'v', 'u'}\n",
       "  )\n",
       ")"
      ]
     },
     "metadata": {},
     "execution_count": 21
    }
   ],
   "source": [
    "fm.model_description(\"(x + y) * u * v\")"
   ]
  },
  {
   "source": [
    "## Some group level effects specifications"
   ],
   "cell_type": "markdown",
   "metadata": {}
  },
  {
   "cell_type": "code",
   "execution_count": 22,
   "metadata": {},
   "outputs": [
    {
     "output_type": "execute_result",
     "data": {
      "text/plain": [
       "ModelTerms(\n",
       "  ResponseTerm(\n",
       "    Term(\n",
       "      name= y\n",
       "      variable= y\n",
       "      kind= None\n",
       "    )\n",
       "  ),\n",
       "  InterceptTerm(),\n",
       "  Term(\n",
       "    name= a\n",
       "    variable= a\n",
       "    kind= None\n",
       "  ),\n",
       "  Term(\n",
       "    name= b\n",
       "    variable= b\n",
       "    kind= None\n",
       "  ),\n",
       "  GroupSpecTerm(\n",
       "    expr= Term(\n",
       "      name= a\n",
       "      variable= a\n",
       "      kind= None\n",
       "    ),\n",
       "    factor= Term(\n",
       "      name= g\n",
       "      variable= g\n",
       "      kind= None\n",
       "    )\n",
       "  ),\n",
       "  GroupSpecTerm(\n",
       "    expr= InterceptTerm(),\n",
       "    factor= Term(\n",
       "      name= g\n",
       "      variable= g\n",
       "      kind= None\n",
       "    )\n",
       "  ),\n",
       "  GroupSpecTerm(\n",
       "    expr= Term(\n",
       "      name= b\n",
       "      variable= b\n",
       "      kind= None\n",
       "    ),\n",
       "    factor= Term(\n",
       "      name= g\n",
       "      variable= g\n",
       "      kind= None\n",
       "    )\n",
       "  )\n",
       ")"
      ]
     },
     "metadata": {},
     "execution_count": 22
    }
   ],
   "source": [
    "fm.model_description(\"y ~ a + b + (0 + a | g) + (b | g)\")"
   ]
  },
  {
   "source": [
    "`(x1 + x2 + x3) ** 2` computes all the pairwise interactions between the terms between parenthesis. We then remove `x2:x3` and `x1`."
   ],
   "cell_type": "markdown",
   "metadata": {}
  },
  {
   "cell_type": "code",
   "execution_count": 23,
   "metadata": {},
   "outputs": [
    {
     "output_type": "execute_result",
     "data": {
      "text/plain": [
       "ModelTerms(\n",
       "  ResponseTerm(\n",
       "    CallTerm(\n",
       "      call=np.sqrt(y),\n",
       "      args=[Variable(name=y)],\n",
       "      special=False\n",
       "    )\n",
       "  ),\n",
       "  Term(\n",
       "    name= x2\n",
       "    variable= x2\n",
       "    kind= None\n",
       "  ),\n",
       "  Term(\n",
       "    name= x3\n",
       "    variable= x3\n",
       "    kind= None\n",
       "  ),\n",
       "  InteractionTerm(\n",
       "    name= x1:x2\n",
       "    variables= {'x1', 'x2'}\n",
       "  ),\n",
       "  InteractionTerm(\n",
       "    name= x1:x3\n",
       "    variables= {'x1', 'x3'}\n",
       "  )\n",
       ")"
      ]
     },
     "metadata": {},
     "execution_count": 23
    }
   ],
   "source": [
    "fm.model_description(\"np.sqrt(y) ~ -1 + (x1 + x2 + x3) ** 2 - x2:x3 - x1\")"
   ]
  }
 ],
 "metadata": {
  "kernelspec": {
   "display_name": "formulae",
   "language": "python",
   "name": "formulae"
  },
  "language_info": {
   "codemirror_mode": {
    "name": "ipython",
    "version": 3
   },
   "file_extension": ".py",
   "mimetype": "text/x-python",
   "name": "python",
   "nbconvert_exporter": "python",
   "pygments_lexer": "ipython3",
   "version": "3.8.5-final"
  }
 },
 "nbformat": 4,
 "nbformat_minor": 4
}